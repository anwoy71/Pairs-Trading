{
 "cells": [
  {
   "cell_type": "code",
   "execution_count": 52,
   "id": "9fe7b722-3ad3-4720-9cab-ddd57fc28d78",
   "metadata": {},
   "outputs": [],
   "source": [
    "import pandas as pd\n",
    "import numpy as np\n",
    "import matplotlib.pyplot as plt"
   ]
  },
  {
   "cell_type": "code",
   "execution_count": 54,
   "id": "5d3b1387-35a2-4f45-b170-5e346d8b0d02",
   "metadata": {},
   "outputs": [],
   "source": [
    "equity = pd.read_csv(\"equity_net_series.csv\", index_col=0, parse_dates=True)\n",
    "if isinstance(equity, pd.DataFrame) and equity.shape[1] == 1:\n",
    "    equity = equity.iloc[:,0]"
   ]
  },
  {
   "cell_type": "markdown",
   "id": "f2e242bc-c27d-4baf-ae74-aabbc0f18c18",
   "metadata": {},
   "source": [
    "# Performance metrics"
   ]
  },
  {
   "cell_type": "code",
   "execution_count": 57,
   "id": "670737d1-b9fe-4692-bd10-5ec813ea9adb",
   "metadata": {},
   "outputs": [],
   "source": [
    "# total return (decimal)\n",
    "total_ret = float(equity.iloc[-1])"
   ]
  },
  {
   "cell_type": "code",
   "execution_count": 59,
   "id": "3fb9c6dd-b679-408f-9084-bbe450233f4b",
   "metadata": {},
   "outputs": [],
   "source": [
    "# horizon in years\n",
    "years = (equity.index[-1] - equity.index[0]).days / 365"
   ]
  },
  {
   "cell_type": "code",
   "execution_count": 61,
   "id": "ca75a985-6277-4b98-8af1-2b2c844c05ac",
   "metadata": {},
   "outputs": [],
   "source": [
    "# CAGR\n",
    "cagr = (1 + total_ret)**(1/years) - 1 if years > 0 else np.nan"
   ]
  },
  {
   "cell_type": "code",
   "execution_count": 63,
   "id": "c038ddb6-25d8-4022-920f-5e3cd56fe799",
   "metadata": {},
   "outputs": [],
   "source": [
    "# daily strategy returns - from equity\n",
    "daily_ret = equity.diff().fillna(0)"
   ]
  },
  {
   "cell_type": "code",
   "execution_count": 65,
   "id": "f5c3c662-41ae-4b4b-9ad2-c3c8df32115b",
   "metadata": {},
   "outputs": [],
   "source": [
    "# annualized volatility (for 252 trading days)\n",
    "ann_vol = daily_ret.std() * np.sqrt(252)"
   ]
  },
  {
   "cell_type": "code",
   "execution_count": 67,
   "id": "c389068b-6dcd-4e5a-9673-332545a561ef",
   "metadata": {},
   "outputs": [],
   "source": [
    "# annualized return \n",
    "ann_ret = daily_ret.mean() * 252"
   ]
  },
  {
   "cell_type": "code",
   "execution_count": 69,
   "id": "b4a4fae6-1604-4485-a920-d7610fa24e9b",
   "metadata": {},
   "outputs": [],
   "source": [
    "# sharpe\n",
    "sharpe = ann_ret / ann_vol if ann_vol != 0 else np.nan"
   ]
  },
  {
   "cell_type": "code",
   "execution_count": 71,
   "id": "3018d404-1327-418f-b488-c292c0c04d7d",
   "metadata": {},
   "outputs": [],
   "source": [
    "# max drawdown\n",
    "cummax = equity.cummax()\n",
    "drawdown = equity - cummax\n",
    "max_dd = drawdown.min()\n",
    "dd_pct = (max_dd / cummax.max()) if cummax.max() != 0 else np.nan"
   ]
  },
  {
   "cell_type": "code",
   "execution_count": 75,
   "id": "1e43ef9c-dc18-4982-91b9-efaad879b18b",
   "metadata": {},
   "outputs": [
    {
     "name": "stdout",
     "output_type": "stream",
     "text": [
      "Performance summary\n",
      "-------------------\n",
      "Total return (decimal): 0.6361\n",
      "Years: 7.01\n",
      "CAGR: 7.2802%\n",
      "Annualized return (from daily mean): 9.2654%\n",
      "Annualized vol: 14.8146%\n",
      "Sharpe: 0.63\n",
      "Max drawdown (absolute): -0.2594\n",
      "Max drawdown (as % of peak): -40.29%\n"
     ]
    }
   ],
   "source": [
    "print(\"Performance summary\")\n",
    "print(\"-------------------\")\n",
    "print(f\"Total return (decimal): {total_ret:.4f}\")\n",
    "print(f\"Years: {years:.2f}\")\n",
    "print(f\"CAGR: {cagr:.4%}\")\n",
    "print(f\"Annualized return (from daily mean): {ann_ret:.4%}\")\n",
    "print(f\"Annualized vol: {ann_vol:.4%}\")\n",
    "print(f\"Sharpe: {sharpe:.2f}\")\n",
    "print(f\"Max drawdown (absolute): {max_dd:.4f}\")\n",
    "print(f\"Max drawdown (as % of peak): {dd_pct:.2%}\")"
   ]
  },
  {
   "cell_type": "code",
   "execution_count": null,
   "id": "4976752e-2b7f-4d62-a6fd-03725fe6b427",
   "metadata": {},
   "outputs": [],
   "source": []
  },
  {
   "cell_type": "markdown",
   "id": "83ea59e5-9960-4c13-b948-507ae517c00c",
   "metadata": {},
   "source": [
    "# Trade Log"
   ]
  },
  {
   "cell_type": "code",
   "execution_count": 82,
   "id": "9680838f-7fcd-4187-bc37-dd42a6b937ce",
   "metadata": {},
   "outputs": [],
   "source": [
    "from datetime import timedelta\n",
    "import os"
   ]
  },
  {
   "cell_type": "code",
   "execution_count": 84,
   "id": "cfa2207f-6ba2-4691-ac15-bb46cd5b7204",
   "metadata": {},
   "outputs": [],
   "source": [
    "adj_file = \"hdfc_icici_adjclose_clean.csv\"\n",
    "pos_file = \"pos_series.csv\"\n",
    "\n",
    "if not os.path.exists(adj_file):\n",
    "    raise FileNotFoundError(f\"{adj_file} not found. Run s2_backtest and save prices.\")\n"
   ]
  },
  {
   "cell_type": "code",
   "execution_count": 88,
   "id": "857b4e3f-87e2-418a-ac40-2d23050d8707",
   "metadata": {},
   "outputs": [],
   "source": [
    "adj = pd.read_csv(adj_file, index_col=0, parse_dates=True)\n",
    "# pos might be a series or df\n",
    "if os.path.exists(pos_file):\n",
    "    pos = pd.read_csv(pos_file, index_col=0, parse_dates=True)\n",
    "    if isinstance(pos, pd.DataFrame) and pos.shape[1] == 1:\n",
    "        pos = pos.iloc[:,0]\n",
    "else:\n",
    "    raise FileNotFoundError(f\"{pos_file} not found. Save pos from s2_backtest.\")"
   ]
  },
  {
   "cell_type": "code",
   "execution_count": 90,
   "id": "99d1bc69-e84f-4eec-b8d7-e962f6ce734a",
   "metadata": {},
   "outputs": [],
   "source": [
    "adj.columns = [c if (\"HDFCBANK\" in str(c) or \"ICICIBANK\" in str(c)) else (\"HDFCBANK.NS\" if i==0 else \"ICICIBANK.NS\")\n",
    "               for i,c in enumerate(adj.columns)]\n",
    "lookback = 30\n",
    "ratio = adj['HDFCBANK.NS'] / adj['ICICIBANK.NS']\n",
    "mean = ratio.rolling(lookback).mean()\n",
    "std = ratio.rolling(lookback).std()\n",
    "z = (ratio - mean) / std"
   ]
  },
  {
   "cell_type": "code",
   "execution_count": 96,
   "id": "af7aac46-7d59-457c-a0f9-5a7ef284037a",
   "metadata": {},
   "outputs": [
    {
     "name": "stderr",
     "output_type": "stream",
     "text": [
      "/tmp/ipykernel_4079/3906893838.py:1: FutureWarning: Series.fillna with 'method' is deprecated and will raise in a future version. Use obj.ffill() or obj.bfill() instead.\n",
      "  pos = pos.reindex(ratio.index).fillna(method='ffill').fillna(0).astype(int)\n"
     ]
    }
   ],
   "source": [
    "pos = pos.reindex(ratio.index).fillna(method='ffill').fillna(0).astype(int)\n",
    "\n",
    "changes = pos.diff().fillna(0)\n",
    "change_idx = changes[changes != 0].index\n",
    "\n",
    "trades = []\n",
    "entry = None"
   ]
  },
  {
   "cell_type": "code",
   "execution_count": 98,
   "id": "7755fc05-c49b-4ecf-af6a-bf3cfe245f85",
   "metadata": {},
   "outputs": [],
   "source": [
    "for t in change_idx:\n",
    "    change = int(changes.loc[t])\n",
    "    prev = pos.loc[t - timedelta(days=1)] if (t - timedelta(days=1)) in pos.index else 0\n",
    "    # If prev==0 and change !=0 -> entry at t\n",
    "    if prev == 0 and change != 0:\n",
    "        entry = {\n",
    "            'entry_date': t,\n",
    "            'entry_pos': int(pos.loc[t]),\n",
    "            'entry_price_H': float(adj.loc[t, 'HDFCBANK.NS']),\n",
    "            'entry_price_I': float(adj.loc[t, 'ICICIBANK.NS']),\n",
    "            'entry_z': float(z.loc[t])\n",
    "        }\n",
    "    # If prev != 0 and change == -prev -> exit at t (closing)\n",
    "    elif prev != 0 and change == -prev:\n",
    "        if entry is None:\n",
    "            # unexpected: an exit without stored entry; skip\n",
    "            continue\n",
    "        exit = {\n",
    "            'exit_date': t,\n",
    "            'exit_pos': 0,\n",
    "            'exit_price_H': float(adj.loc[t, 'HDFCBANK.NS']),\n",
    "            'exit_price_I': float(adj.loc[t, 'ICICIBANK.NS']),\n",
    "            'exit_z': float(z.loc[t])\n",
    "        }\n",
    "        # compute PnL for the round-trip (per-unit, unlevered)\n",
    "        # For a long-ratio entry (entry_pos==1): PnL = (P_H_exit/P_H_entry - 1) - (P_I_exit/P_I_entry - 1)\n",
    "        # For short-ratio (entry_pos==-1): PnL = -[(P_H_exit/P_H_entry - 1) - (P_I_exit/P_I_entry - 1)]\n",
    "        ret_H = exit['exit_price_H'] / entry['entry_price_H'] - 1.0\n",
    "        ret_I = exit['exit_price_I'] / entry['entry_price_I'] - 1.0\n",
    "        pair_ret = ret_H - ret_I\n",
    "        pnl = pair_ret if entry['entry_pos'] == 1 else -pair_ret\n",
    "\n",
    "        trade = {\n",
    "            'entry_date': entry['entry_date'],\n",
    "            'exit_date': exit['exit_date'],\n",
    "            'entry_pos': entry['entry_pos'],\n",
    "            'entry_price_H': entry['entry_price_H'],\n",
    "            'entry_price_I': entry['entry_price_I'],\n",
    "            'entry_z': entry['entry_z'],\n",
    "            'exit_price_H': exit['exit_price_H'],\n",
    "            'exit_price_I': exit['exit_price_I'],\n",
    "            'exit_z': exit['exit_z'],\n",
    "            'trade_pnl': pnl,\n",
    "            'pair_ret': pair_ret,\n",
    "            'trade_length_days': (exit['exit_date'] - entry['entry_date']).days\n",
    "        }\n",
    "        trades.append(trade)\n",
    "        entry = None\n"
   ]
  },
  {
   "cell_type": "code",
   "execution_count": 118,
   "id": "ae0a2ed2-7a95-4a60-a2ce-2b5c5ea1307f",
   "metadata": {},
   "outputs": [
    {
     "name": "stdout",
     "output_type": "stream",
     "text": [
      "Saved trade_log.csv with 40 completed trades\n",
      "Avg PnL: 0.0096, Win rate: 80.00%, Avg length (days): 18.9\n"
     ]
    }
   ],
   "source": [
    "# convert to DataFrame\n",
    "trade_log = pd.DataFrame(trades)\n",
    "trade_log = trade_log.sort_values('entry_date').reset_index(drop=True)\n",
    "\n",
    "# summary stats\n",
    "if len(trade_log):\n",
    "    avg_pnl = trade_log['trade_pnl'].mean()\n",
    "    win_rate = (trade_log['trade_pnl'] > 0).mean()\n",
    "    avg_len = trade_log['trade_length_days'].mean()\n",
    "else:\n",
    "    avg_pnl = win_rate = avg_len = float('nan')\n",
    "\n",
    "trade_log.to_csv(\"trade_log.csv\", index=False)\n",
    "print(f\"Saved trade_log.csv with {len(trade_log)} completed trades\")\n",
    "print(f\"Avg PnL: {avg_pnl:.4f}, Win rate: {win_rate:.2%}, Avg length (days): {avg_len:.1f}\")\n",
    "\n",
    "# show head\n",
    "#trade_log.head(20)"
   ]
  },
  {
   "cell_type": "code",
   "execution_count": 129,
   "id": "5056e1f1-9830-421b-b192-09575168e34b",
   "metadata": {},
   "outputs": [
    {
     "name": "stdout",
     "output_type": "stream",
     "text": [
      "Trade log diagnostics\n",
      "---------------------\n",
      "Total trades: 40\n",
      "Wins: 32, Losses: 8, Win rate: 80.00%\n",
      "Total PnL (sum of trades): 0.3820\n",
      "Avg PnL/trade: 0.0096, Median: 0.0184, Std: 0.0401\n",
      "Longest streak of consecutive losing trades: 1\n",
      "\n",
      "Avg PnL by entry z-bin (showing non-empty bins):\n",
      "  entry_z_bin  count      mean   median\n",
      "(-99.0, -3.0]      5  0.012854 0.013722\n",
      " (-3.0, -2.5]      6 -0.003517 0.018159\n",
      " (-2.5, -2.0]     13  0.004113 0.018558\n",
      "   (2.0, 2.5]      9  0.015981 0.012859\n",
      "   (2.5, 3.0]      3 -0.002766 0.012962\n",
      "  (3.0, 99.0]      4  0.037468 0.034510\n"
     ]
    },
    {
     "name": "stderr",
     "output_type": "stream",
     "text": [
      "/tmp/ipykernel_4079/4182446556.py:24: FutureWarning: The default of observed=False is deprecated and will be changed to True in a future version of pandas. Pass observed=False to retain current behavior or observed=True to adopt the future default and silence this warning.\n",
      "  grouped = tl.groupby('entry_z_bin')['trade_pnl'].agg(['count','mean','median']).reset_index()\n"
     ]
    },
    {
     "data": {
      "image/png": "[encoded data removed]",
      "text/plain": [
       "<Figure size 1000x400 with 1 Axes>"
      ]
     },
     "metadata": {},
     "output_type": "display_data"
    },
    {
     "data": {
      "image/png": "[encoded data removed]",
      "text/plain": [
       "<Figure size 1000x400 with 1 Axes>"
      ]
     },
     "metadata": {},
     "output_type": "display_data"
    }
   ],
   "source": [
    "tl = pd.read_csv(\"trade_log.csv\", parse_dates=[\"entry_date\",\"exit_date\"])\n",
    "# basic counts & stats\n",
    "total_trades = len(tl)\n",
    "wins = (tl['trade_pnl'] > 0).sum()\n",
    "losses = (tl['trade_pnl'] <= 0).sum()\n",
    "win_rate = wins / total_trades if total_trades else np.nan\n",
    "avg_pnl = tl['trade_pnl'].mean()\n",
    "median_pnl = tl['trade_pnl'].median()\n",
    "std_pnl = tl['trade_pnl'].std()\n",
    "total_pnl = tl['trade_pnl'].sum()\n",
    "\n",
    "# longest consecutive losses (in trades)\n",
    "consec = 0\n",
    "max_consec_loss = 0\n",
    "for pnl in tl['trade_pnl']:\n",
    "    if pnl <= 0:\n",
    "        consec += 1\n",
    "        max_consec_loss = max(max_consec_loss, consec)\n",
    "    else:\n",
    "        consec = 0\n",
    "\n",
    "# avg pnl by entry z (bin)\n",
    "tl['entry_z_bin'] = pd.cut(tl['entry_z'], bins=[-99,-3,-2.5,-2,-1.5,-1,0,1,1.5,2,2.5,3,99])\n",
    "grouped = tl.groupby('entry_z_bin')['trade_pnl'].agg(['count','mean','median']).reset_index()\n",
    "\n",
    "# prints\n",
    "print(\"Trade log diagnostics\")\n",
    "print(\"---------------------\")\n",
    "print(f\"Total trades: {total_trades}\")\n",
    "print(f\"Wins: {wins}, Losses: {losses}, Win rate: {win_rate:.2%}\")\n",
    "print(f\"Total PnL (sum of trades): {total_pnl:.4f}\")\n",
    "print(f\"Avg PnL/trade: {avg_pnl:.4f}, Median: {median_pnl:.4f}, Std: {std_pnl:.4f}\")\n",
    "print(f\"Longest streak of consecutive losing trades: {max_consec_loss}\")\n",
    "\n",
    "print(\"\\nAvg PnL by entry z-bin (showing non-empty bins):\")\n",
    "print(grouped[grouped['count']>0].to_string(index=False))\n",
    "\n",
    "# plots\n",
    "plt.figure(figsize=(10,4))\n",
    "plt.hist(tl['trade_pnl'], bins=40)\n",
    "plt.title(\"Histogram of trade PnL (per trade)\")\n",
    "plt.xlabel(\"PnL (decimal per-unit)\"); plt.ylabel(\"Count\")\n",
    "plt.show()\n",
    "\n",
    "plt.figure(figsize=(10,4))\n",
    "plt.plot(tl['trade_pnl'].cumsum().values, marker='o', linestyle='-')\n",
    "plt.title(\"Cumulative PnL across trades (sequence order)\")\n",
    "plt.xlabel(\"Trade index (chronological)\"); plt.ylabel(\"Cumulative PnL\")\n",
    "plt.grid(alpha=0.3)\n",
    "plt.show()"
   ]
  },
  {
   "cell_type": "code",
   "execution_count": 131,
   "id": "de973f73-ffc0-4952-919f-f2d4a0556a42",
   "metadata": {},
   "outputs": [
    {
     "name": "stdout",
     "output_type": "stream",
     "text": [
      "Trade duration stats\n",
      "--------------------\n",
      "Average trade length: 18.88 days\n",
      "Median trade length:  14.50 days\n",
      "Max trade length:     68 days\n",
      "Shortest trade length:1 day(s)\n",
      "\n",
      "Correlation between trade length and PnL: -0.82\n",
      "\n",
      "Avg PnL by trade length bin:\n",
      "  dur_bin  count      mean    median\n",
      "   (0, 2]      2  0.020312  0.020312\n",
      "   (2, 5]      6  0.044733  0.039311\n",
      "  (5, 10]      5  0.028697  0.026907\n",
      " (10, 15]     10  0.020484  0.014082\n",
      " (15, 30]      8  0.009314  0.010327\n",
      "(30, 999]      9 -0.038869 -0.017664\n"
     ]
    },
    {
     "name": "stderr",
     "output_type": "stream",
     "text": [
      "/tmp/ipykernel_4079/177588045.py:28: FutureWarning: The default of observed=False is deprecated and will be changed to True in a future version of pandas. Pass observed=False to retain current behavior or observed=True to adopt the future default and silence this warning.\n",
      "  grouped = tl.groupby('dur_bin')['trade_pnl'].agg(['count','mean','median']).reset_index()\n"
     ]
    },
    {
     "data": {
      "image/png": "[encoded data removed]",
      "text/plain": [
       "<Figure size 800x400 with 1 Axes>"
      ]
     },
     "metadata": {},
     "output_type": "display_data"
    },
    {
     "data": {
      "image/png": "[encoded data removed]",
      "text/plain": [
       "<Figure size 800x400 with 1 Axes>"
      ]
     },
     "metadata": {},
     "output_type": "display_data"
    }
   ],
   "source": [
    "# Trade duration analysis\n",
    "import pandas as pd\n",
    "import matplotlib.pyplot as plt\n",
    "\n",
    "tl = pd.read_csv(\"trade_log.csv\", parse_dates=[\"entry_date\",\"exit_date\"])\n",
    "tl['trade_length_days'] = (tl['exit_date'] - tl['entry_date']).dt.days\n",
    "\n",
    "# basic stats\n",
    "avg_len = tl['trade_length_days'].mean()\n",
    "med_len = tl['trade_length_days'].median()\n",
    "max_len = tl['trade_length_days'].max()\n",
    "shortest = tl['trade_length_days'].min()\n",
    "\n",
    "print(\"Trade duration stats\")\n",
    "print(\"--------------------\")\n",
    "print(f\"Average trade length: {avg_len:.2f} days\")\n",
    "print(f\"Median trade length:  {med_len:.2f} days\")\n",
    "print(f\"Max trade length:     {max_len} days\")\n",
    "print(f\"Shortest trade length:{shortest} day(s)\")\n",
    "\n",
    "# correlation between duration and PnL\n",
    "corr = tl['trade_length_days'].corr(tl['trade_pnl'])\n",
    "print(f\"\\nCorrelation between trade length and PnL: {corr:.2f}\")\n",
    "\n",
    "# group avg pnl by duration buckets\n",
    "bins = [0,2,5,10,15,30,999]\n",
    "tl['dur_bin'] = pd.cut(tl['trade_length_days'], bins=bins)\n",
    "grouped = tl.groupby('dur_bin')['trade_pnl'].agg(['count','mean','median']).reset_index()\n",
    "print(\"\\nAvg PnL by trade length bin:\")\n",
    "print(grouped.to_string(index=False))\n",
    "\n",
    "# plot histogram of trade lengths\n",
    "plt.figure(figsize=(8,4))\n",
    "plt.hist(tl['trade_length_days'], bins=20, edgecolor='black')\n",
    "plt.title(\"Distribution of trade durations (days)\")\n",
    "plt.xlabel(\"Trade length (days)\"); plt.ylabel(\"Frequency\")\n",
    "plt.grid(alpha=0.3)\n",
    "plt.show()\n",
    "\n",
    "# scatter: PnL vs duration\n",
    "plt.figure(figsize=(8,4))\n",
    "plt.scatter(tl['trade_length_days'], tl['trade_pnl'], alpha=0.7)\n",
    "plt.title(\"Trade PnL vs Trade Length\")\n",
    "plt.xlabel(\"Trade length (days)\"); plt.ylabel(\"Trade PnL\")\n",
    "plt.axhline(0, color='red', linestyle='--')\n",
    "plt.grid(alpha=0.3)\n",
    "plt.show()\n"
   ]
  },
  {
   "cell_type": "code",
   "execution_count": null,
   "id": "3c85c1e9-98cc-4e24-8948-0868ad2fb14c",
   "metadata": {},
   "outputs": [],
   "source": []
  },
  {
   "cell_type": "markdown",
   "id": "3b636468-452c-427b-bd34-dce13aaef904",
   "metadata": {},
   "source": [
    "# Turnover and capital usage"
   ]
  },
  {
   "cell_type": "code",
   "execution_count": 135,
   "id": "d8a21a80-7eb1-41cb-9998-b78e8e8059c7",
   "metadata": {},
   "outputs": [
    {
     "name": "stdout",
     "output_type": "stream",
     "text": [
      "Capital & Turnover Summary\n",
      "---------------------------\n",
      "Backtest span: 6.57 years\n",
      "Total trades: 40  |  Trades per year: 6.09\n",
      "Total days in market (sum of all trade durations): 755\n",
      "Unique active trading days: 795\n",
      "Capital utilization (fraction of time invested): 33.15%\n",
      "Nominal CAGR (from total PnL): 5.05%\n",
      "Effective CAGR (scaled by utilization): 15.24%\n"
     ]
    },
    {
     "name": "stderr",
     "output_type": "stream",
     "text": [
      "/tmp/ipykernel_4079/1048683875.py:16: FutureWarning: The behavior of array concatenation with empty entries is deprecated. In a future version, this will no longer exclude empty items when determining the result dtype. To retain the old behavior, exclude the empty entries before the concat operation.\n",
      "  active_days = pd.concat([active_days, pd.Series(pd.date_range(row.entry_date, row.exit_date))])\n"
     ]
    }
   ],
   "source": [
    "# Step C — Turnover and capital efficiency\n",
    "import pandas as pd\n",
    "import numpy as np\n",
    "\n",
    "tl = pd.read_csv(\"trade_log.csv\", parse_dates=[\"entry_date\",\"exit_date\"])\n",
    "\n",
    "# basic trade frequency\n",
    "years = (tl['exit_date'].max() - tl['entry_date'].min()).days / 365.25\n",
    "trades_per_year = len(tl) / years\n",
    "\n",
    "# total days in market (sum of trade durations)\n",
    "total_days_in_market = tl['trade_length_days'].sum()\n",
    "#  unique active days (approx capital utilization)\n",
    "active_days = pd.Series(dtype=int)\n",
    "for _, row in tl.iterrows():\n",
    "    active_days = pd.concat([active_days, pd.Series(pd.date_range(row.entry_date, row.exit_date))])\n",
    "active_days = active_days.dt.normalize().drop_duplicates()\n",
    "utilization = len(active_days) / ((tl['exit_date'].max() - tl['entry_date'].min()).days)\n",
    "\n",
    "# annualized turnover (number of round-trips per year)\n",
    "turnover = trades_per_year\n",
    "\n",
    "# capital efficiency: assuming 1 unit capital deployed whenever a position is open\n",
    "# effective annualized return = CAGR / utilization\n",
    "from math import pow\n",
    "\n",
    "total_pnl = tl['trade_pnl'].sum()\n",
    "cagr_nominal = pow(1 + total_pnl, 1/years) - 1 if years > 0 else np.nan\n",
    "cagr_eff = cagr_nominal / utilization if utilization > 0 else np.nan\n",
    "\n",
    "# --- print summary ---\n",
    "print(\"Capital & Turnover Summary\")\n",
    "print(\"---------------------------\")\n",
    "print(f\"Backtest span: {years:.2f} years\")\n",
    "print(f\"Total trades: {len(tl)}  |  Trades per year: {trades_per_year:.2f}\")\n",
    "print(f\"Total days in market (sum of all trade durations): {total_days_in_market}\")\n",
    "print(f\"Unique active trading days: {len(active_days)}\")\n",
    "print(f\"Capital utilization (fraction of time invested): {utilization:.2%}\")\n",
    "print(f\"Nominal CAGR (from total PnL): {cagr_nominal:.2%}\")\n",
    "print(f\"Effective CAGR (scaled by utilization): {cagr_eff:.2%}\")\n"
   ]
  },
  {
   "cell_type": "code",
   "execution_count": null,
   "id": "c39a01e4-c178-4cbb-9bf4-b99480c8af43",
   "metadata": {},
   "outputs": [],
   "source": []
  },
  {
   "cell_type": "markdown",
   "id": "082296aa-a8ca-4280-9de9-5bfe4c7ec243",
   "metadata": {},
   "source": [
    "# Performance report summary"
   ]
  },
  {
   "cell_type": "code",
   "execution_count": 153,
   "id": "108460d2-bfe5-4ba4-af10-edeb7cb45620",
   "metadata": {},
   "outputs": [
    {
     "name": "stderr",
     "output_type": "stream",
     "text": [
      "/tmp/ipykernel_4079/659951985.py:34: FutureWarning: The behavior of array concatenation with empty entries is deprecated. In a future version, this will no longer exclude empty items when determining the result dtype. To retain the old behavior, exclude the empty entries before the concat operation.\n",
      "  active_days = pd.concat([active_days, pd.Series(pd.date_range(row.entry_date, row.exit_date))])\n"
     ]
    },
    {
     "data": {
      "text/html": [
       "<div>\n",
       "<style scoped>\n",
       "    .dataframe tbody tr th:only-of-type {\n",
       "        vertical-align: middle;\n",
       "    }\n",
       "\n",
       "    .dataframe tbody tr th {\n",
       "        vertical-align: top;\n",
       "    }\n",
       "\n",
       "    .dataframe thead th {\n",
       "        text-align: right;\n",
       "    }\n",
       "</style>\n",
       "<table border=\"1\" class=\"dataframe\">\n",
       "  <thead>\n",
       "    <tr style=\"text-align: right;\">\n",
       "      <th></th>\n",
       "      <th>Metric</th>\n",
       "      <th>Value</th>\n",
       "    </tr>\n",
       "  </thead>\n",
       "  <tbody>\n",
       "    <tr>\n",
       "      <th>0</th>\n",
       "      <td>Total Return (decimal)</td>\n",
       "      <td>0.6361</td>\n",
       "    </tr>\n",
       "    <tr>\n",
       "      <th>1</th>\n",
       "      <td>Years</td>\n",
       "      <td>7.0007</td>\n",
       "    </tr>\n",
       "    <tr>\n",
       "      <th>2</th>\n",
       "      <td>CAGR</td>\n",
       "      <td>0.0729</td>\n",
       "    </tr>\n",
       "    <tr>\n",
       "      <th>3</th>\n",
       "      <td>Annualized Return</td>\n",
       "      <td>0.0927</td>\n",
       "    </tr>\n",
       "    <tr>\n",
       "      <th>4</th>\n",
       "      <td>Annualized Volatility</td>\n",
       "      <td>0.1481</td>\n",
       "    </tr>\n",
       "    <tr>\n",
       "      <th>5</th>\n",
       "      <td>Sharpe Ratio</td>\n",
       "      <td>0.6254</td>\n",
       "    </tr>\n",
       "    <tr>\n",
       "      <th>6</th>\n",
       "      <td>Max Drawdown (abs)</td>\n",
       "      <td>-0.2594</td>\n",
       "    </tr>\n",
       "    <tr>\n",
       "      <th>7</th>\n",
       "      <td>Max Drawdown (%)</td>\n",
       "      <td>-0.4029</td>\n",
       "    </tr>\n",
       "    <tr>\n",
       "      <th>8</th>\n",
       "      <td>Total Trades</td>\n",
       "      <td>40.0000</td>\n",
       "    </tr>\n",
       "    <tr>\n",
       "      <th>9</th>\n",
       "      <td>Win Rate</td>\n",
       "      <td>0.8000</td>\n",
       "    </tr>\n",
       "    <tr>\n",
       "      <th>10</th>\n",
       "      <td>Avg PnL per Trade</td>\n",
       "      <td>0.0096</td>\n",
       "    </tr>\n",
       "    <tr>\n",
       "      <th>11</th>\n",
       "      <td>Avg Trade Length (days)</td>\n",
       "      <td>18.8750</td>\n",
       "    </tr>\n",
       "    <tr>\n",
       "      <th>12</th>\n",
       "      <td>Trades per Year</td>\n",
       "      <td>5.7137</td>\n",
       "    </tr>\n",
       "    <tr>\n",
       "      <th>13</th>\n",
       "      <td>Capital Utilization</td>\n",
       "      <td>0.3315</td>\n",
       "    </tr>\n",
       "    <tr>\n",
       "      <th>14</th>\n",
       "      <td>Effective CAGR (scaled)</td>\n",
       "      <td>0.2198</td>\n",
       "    </tr>\n",
       "  </tbody>\n",
       "</table>\n",
       "</div>"
      ],
      "text/plain": [
       "                     Metric    Value\n",
       "0    Total Return (decimal)   0.6361\n",
       "1                     Years   7.0007\n",
       "2                      CAGR   0.0729\n",
       "3         Annualized Return   0.0927\n",
       "4     Annualized Volatility   0.1481\n",
       "5              Sharpe Ratio   0.6254\n",
       "6        Max Drawdown (abs)  -0.2594\n",
       "7          Max Drawdown (%)  -0.4029\n",
       "8              Total Trades  40.0000\n",
       "9                  Win Rate   0.8000\n",
       "10        Avg PnL per Trade   0.0096\n",
       "11  Avg Trade Length (days)  18.8750\n",
       "12          Trades per Year   5.7137\n",
       "13      Capital Utilization   0.3315\n",
       "14  Effective CAGR (scaled)   0.2198"
      ]
     },
     "metadata": {},
     "output_type": "display_data"
    }
   ],
   "source": [
    "import pandas as pd\n",
    "import numpy as np\n",
    "\n",
    "# --- reload any key series (optional safety) ---\n",
    "equity = pd.read_csv(\"equity_net_series.csv\", index_col=0, parse_dates=True)\n",
    "if isinstance(equity, pd.DataFrame) and equity.shape[1] == 1:\n",
    "    equity = equity.iloc[:,0]\n",
    "tl = pd.read_csv(\"trade_log.csv\", parse_dates=[\"entry_date\",\"exit_date\"])\n",
    "\n",
    "# --- core metrics ---\n",
    "total_ret = float(equity.iloc[-1])\n",
    "years = (equity.index[-1] - equity.index[0]).days / 365.25\n",
    "cagr = (1 + total_ret)**(1/years) - 1\n",
    "daily_ret = equity.diff().fillna(0)\n",
    "ann_vol = daily_ret.std() * np.sqrt(252)\n",
    "ann_ret = daily_ret.mean() * 252\n",
    "sharpe = ann_ret / ann_vol if ann_vol != 0 else np.nan\n",
    "cummax = equity.cummax()\n",
    "drawdown = equity - cummax\n",
    "max_dd = drawdown.min()\n",
    "dd_pct = (max_dd / cummax.max()) if cummax.max() != 0 else np.nan\n",
    "\n",
    "# --- trade metrics ---\n",
    "wins = (tl['trade_pnl'] > 0).sum()\n",
    "losses = (tl['trade_pnl'] <= 0).sum()\n",
    "win_rate = wins / len(tl) if len(tl) else np.nan\n",
    "avg_pnl = tl['trade_pnl'].mean()\n",
    "avg_len = tl['trade_length_days'].mean()\n",
    "trades_per_year = len(tl) / years\n",
    "\n",
    "# --- capital efficiency metrics (reuse Step C logic) ---\n",
    "active_days = pd.Series(dtype=int)\n",
    "for _, row in tl.iterrows():\n",
    "    active_days = pd.concat([active_days, pd.Series(pd.date_range(row.entry_date, row.exit_date))])\n",
    "active_days = active_days.dt.normalize().drop_duplicates()\n",
    "utilization = len(active_days) / ((tl['exit_date'].max() - tl['entry_date'].min()).days)\n",
    "cagr_eff = cagr / utilization if utilization > 0 else np.nan\n",
    "\n",
    "# --- compile all into DataFrame ---\n",
    "summary = pd.DataFrame({\n",
    "    \"Metric\": [\n",
    "        \"Total Return (decimal)\", \"Years\", \"CAGR\", \"Annualized Return\", \"Annualized Volatility\",\n",
    "        \"Sharpe Ratio\", \"Max Drawdown (abs)\", \"Max Drawdown (%)\",\n",
    "        \"Total Trades\", \"Win Rate\", \"Avg PnL per Trade\", \"Avg Trade Length (days)\",\n",
    "        \"Trades per Year\", \"Capital Utilization\", \"Effective CAGR (scaled)\"\n",
    "    ],\n",
    "    \"Value\": [\n",
    "        total_ret, years, cagr, ann_ret, ann_vol, sharpe,\n",
    "        max_dd, dd_pct, len(tl), win_rate, avg_pnl, avg_len,\n",
    "        trades_per_year, utilization, cagr_eff\n",
    "    ]\n",
    "})\n",
    "\n",
    "# format nicely\n",
    "summary[\"Value\"] = summary[\"Value\"].apply(lambda x: f\"{x:.4f}\" if isinstance(x, (float, np.floating)) else str(x))\n",
    "summary.to_csv(\"performance_report.csv\", index=False)\n",
    "\n",
    "display(summary)"
   ]
  },
  {
   "cell_type": "code",
   "execution_count": null,
   "id": "54a5f03e-9d4c-4db9-9382-0150d5b78977",
   "metadata": {},
   "outputs": [],
   "source": []
  }
 ],
 "metadata": {
  "kernelspec": {
   "display_name": "Python (trading)",
   "language": "python",
   "name": "trading"
  },
  "language_info": {
   "codemirror_mode": {
    "name": "ipython",
    "version": 3
   },
   "file_extension": ".py",
   "mimetype": "text/x-python",
   "name": "python",
   "nbconvert_exporter": "python",
   "pygments_lexer": "ipython3",
   "version": "3.11.13"
  }
 },
 "nbformat": 4,
 "nbformat_minor": 5
}
